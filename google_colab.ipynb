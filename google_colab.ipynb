{
  "nbformat": 4,
  "nbformat_minor": 0,
  "metadata": {
    "colab": {
      "name": "Untitled0.ipynb",
      "provenance": [],
      "collapsed_sections": [],
      "authorship_tag": "ABX9TyPQC1pOnf32FDqJJofH+/H8",
      "include_colab_link": true
    },
    "kernelspec": {
      "name": "python3",
      "display_name": "Python 3"
    },
    "language_info": {
      "name": "python"
    }
  },
  "cells": [
    {
      "cell_type": "markdown",
      "metadata": {
        "id": "view-in-github",
        "colab_type": "text"
      },
      "source": [
        "<a href=\"https://colab.research.google.com/github/Pranav444809/digital-clock/blob/main/google_colab.ipynb\" target=\"_parent\"><img src=\"https://colab.research.google.com/assets/colab-badge.svg\" alt=\"Open In Colab\"/></a>"
      ]
    },
    {
      "cell_type": "code",
      "source": [
        "def my_function(*kids):\n",
        "  print(\"The youngest child is \" + kids[1])\n",
        "\n",
        "my_function(\"Emil\", \"Tobias\", \"Linus\",'prashant')"
      ],
      "metadata": {
        "id": "kjn7ldLYgovm"
      },
      "execution_count": null,
      "outputs": []
    },
    {
      "cell_type": "code",
      "source": [
        "def fact(n):\n",
        "  if n==1 or n==0:\n",
        "     return 1\n",
        "  else:\n",
        "     return(n*fact(n-1))\n",
        "print(fact(0))"
      ],
      "metadata": {
        "id": "-0tIBvZekhoc"
      },
      "execution_count": null,
      "outputs": []
    },
    {
      "cell_type": "code",
      "source": [
        "# write a code only the duplicate carectors from the string ?\n",
        "str='abcdefscfabghulaxepranav'\n",
        "x=input('enter the alphabate : ')\n",
        "if str.count(x)>1:\n",
        "    "
      ],
      "metadata": {
        "id": "hEgk8hx3lL1L"
      },
      "execution_count": null,
      "outputs": []
    },
    {
      "cell_type": "code",
      "source": [
        "str1=\"abbbcdeef\"\n",
        "str2=\"\"\n",
        "for i in range(len(str1)):\n",
        "  if i<len(str1)-1:\n",
        "    if str1[i]==str1[i+1] and str1[i] not in str2:\n",
        "      str2=str2+str1[i]\n",
        "print(str2)"
      ],
      "metadata": {
        "colab": {
          "base_uri": "https://localhost:8080/"
        },
        "id": "KkXzXD1TtJQN",
        "outputId": "1d89149f-4b4a-4d05-fa8d-b30ac7b944f0"
      },
      "execution_count": null,
      "outputs": [
        {
          "output_type": "stream",
          "name": "stdout",
          "text": [
            "be\n"
          ]
        }
      ]
    },
    {
      "cell_type": "code",
      "source": [
        "# Write a program that prints the numbers from 1 to 100. But for multiples of three print “Fizz” instead of the number and for the multiples of five print “Buzz”. For numbers which are multiples of both three and five print “FizzBuzz”\n",
        "# Count number of even and odd elements in an array\n",
        "# Given an array with all integers between 1 and 100 except for one, find the missing number.\n",
        "# Rotate an array\n",
        "# Move all the negative elements to one side of the array."
      ],
      "metadata": {
        "id": "dRF04Y2utzbO"
      },
      "execution_count": null,
      "outputs": []
    },
    {
      "cell_type": "code",
      "source": [
        "# Write a program that prints the numbers from 1 to 100. But for multiples of three print “Fizz” instead of the number and for the multiples of five print “Buzz”. For numbers which are multiples of both three and five print “FizzBuzz”\n",
        "n=101\n",
        "for i in range(1,n): \n",
        "  if i%3==0 and i%5==0:\n",
        "   print(\"FizzBuzz\")\n",
        "  elif i%5==0:\n",
        "   print(\"Buzz\")\n",
        "  elif i%3==0:\n",
        "    print(\"Fizz\")\n",
        "  else:\n",
        "   print(i)"
      ],
      "metadata": {
        "id": "W78B3DDixUxk"
      },
      "execution_count": null,
      "outputs": []
    },
    {
      "cell_type": "code",
      "source": [
        "# Count number of even and odd elements in an array\n",
        "mix_lst=[32,45,62,85,9,6,75,2,4,5545,45]\n",
        "even_cnt=0\n",
        "odd_cnt=0\n",
        " \n",
        "for i in mix_lst:\n",
        "    if i%2==0:\n",
        "        even_cnt=even_cnt+1   #event\n",
        "    else:\n",
        "        odd_cnt=odd_cnt+1\n",
        "\n",
        "print(f' {even_cnt} : is your even count')\n",
        "print(f' {odd_cnt} : is your odd count')"
      ],
      "metadata": {
        "id": "gXu2uMrQzQvE"
      },
      "execution_count": null,
      "outputs": []
    },
    {
      "cell_type": "code",
      "source": [
        "# Given an array with all integers between 1 and 100 except for one, find the missing number.\n",
        "\n",
        "\n",
        "\n"
      ],
      "metadata": {
        "id": "C-wNmEdPzNKq"
      },
      "execution_count": null,
      "outputs": []
    },
    {
      "cell_type": "code",
      "source": [
        "# Rotate an array\n",
        "list2=[1,2,3,4,5]\n",
        "temp=[]\n",
        "rotate=4\n",
        "i=0 \n",
        "while i<rotate:\n",
        "  temp.append(list2[i])\n",
        "  i=i+1\n",
        "for j in range(rotate):\n",
        "  list2.remove(list2[0])\n",
        "for i in temp:\n",
        "  list2.append(i)\n",
        "list2"
      ],
      "metadata": {
        "id": "akykHS7l9J6b"
      },
      "execution_count": null,
      "outputs": []
    },
    {
      "cell_type": "code",
      "source": [
        "# Annagram\n",
        "# str1=\"dynamitte\"\n",
        "# str2=\"may it end\"\n",
        " \n",
        "str1=\"gold and silver\" \n",
        "str2=\"grand old evils\"\n",
        "str11=str1.lower()\n",
        "str22=str2.lower()\n",
        "lst22=[j for j in str22 if j!=\" \"]\n",
        "print(lst22)\n",
        "lst11=[i for i in str11 if i!=\" \"]\n",
        "print(lst11)\n",
        "if len(lst11)==len(lst22):\n",
        "    for i in lst11+lst22:\n",
        "        if i not in lst11 or i not in lst22:\n",
        "            print(i)\n",
        "            break\n",
        "    else:\n",
        "        print(\"yes the string is anagram\")\n",
        "else:\n",
        "    print(\"the string is not anagram\")\n",
        "\n",
        "\n",
        "# 2nd Approach\n",
        "def anagram(a,b):\n",
        "  if len(a)!=len(b):\n",
        "    return 'Not anagram'\n",
        "  dict_a={}\n",
        "  dict_b={}\n",
        "  for i in range(len(a)):\n",
        "    dict_a[a[i]]=1+dict_a.get(a[i],0)\n",
        "    dict_b[b[i]]=1+dict_b.get(b[i],0)\n",
        "  for j in dict_a:\n",
        "    if dict_a[j]!=dict_b[j]:\n",
        "      return \"Not anagram\"\n",
        "  return \"Anagram\""
      ],
      "metadata": {
        "id": "2pxHsbtN9jcA"
      },
      "execution_count": null,
      "outputs": []
    },
    {
      "cell_type": "code",
      "source": [
        "lst =[1,2,3,4,5,6,7,8,9]\n",
        "lst2=[]\n",
        "for i in lst:\n",
        "    a=i**2\n",
        "    lst2.append(a)\n",
        "    i=i+1\n",
        "print(lst2)"
      ],
      "metadata": {
        "colab": {
          "base_uri": "https://localhost:8080/"
        },
        "id": "CcGnWiflL94K",
        "outputId": "3819467e-7f9c-4313-821f-5ce192ce98c2"
      },
      "execution_count": null,
      "outputs": [
        {
          "output_type": "stream",
          "name": "stdout",
          "text": [
            "[1, 4, 9, 16, 25, 36, 49, 64, 81]\n"
          ]
        }
      ]
    },
    {
      "cell_type": "code",
      "source": [
        "# Binary Search\n",
        "def binary_search(list1,start,end,x):\n",
        "  if start<end:\n",
        "    mid=(start+end)//2\n",
        "    if list1[mid]==x:\n",
        "      return mid\n",
        "    \n",
        "    elif list1[mid]<x:\n",
        "      return binary_search(list1,mid+1,end,x)\n",
        "    elif list1[mid]>x:\n",
        "      return binary_search(list1,start,mid-1,x)\n",
        "  else:\n",
        "    return -1\n",
        "\n"
      ],
      "metadata": {
        "id": "zaRn4UMzqYG1"
      },
      "execution_count": null,
      "outputs": []
    },
    {
      "cell_type": "code",
      "source": [
        "m=3\n",
        "number=81\n",
        "n=1\n",
        "result=m\n",
        "while result<=number:\n",
        "  if result==number:\n",
        "    print(n)\n",
        "    break\n",
        "  result=result*m\n",
        "  n=n+1"
      ],
      "metadata": {
        "id": "UUlF80pltpbk"
      },
      "execution_count": null,
      "outputs": []
    },
    {
      "cell_type": "code",
      "source": [
        "m=1024\n",
        "for i in range(1,m+1):\n",
        "    if 2**i ==1024:\n",
        "        print(i)"
      ],
      "metadata": {
        "colab": {
          "base_uri": "https://localhost:8080/"
        },
        "id": "LcrHKzQJtuqW",
        "outputId": "45a16768-fdf6-41f9-c2e9-af3b69aca602"
      },
      "execution_count": null,
      "outputs": [
        {
          "output_type": "stream",
          "name": "stdout",
          "text": [
            "10\n"
          ]
        }
      ]
    },
    {
      "cell_type": "code",
      "source": [
        "squre_even=[i*i for i in lst if i%2==0 else ]\n",
        "print(squre_even)"
      ],
      "metadata": {
        "colab": {
          "base_uri": "https://localhost:8080/"
        },
        "id": "WSE8k9RzO4UI",
        "outputId": "e861b315-509b-47e5-df27-42a9691e00bc"
      },
      "execution_count": null,
      "outputs": [
        {
          "output_type": "stream",
          "name": "stdout",
          "text": [
            "[4, 16, 36, 64]\n"
          ]
        }
      ]
    },
    {
      "cell_type": "code",
      "source": [
        "new_lst=[for i in lst if i%2==0 print(i*i) ]"
      ],
      "metadata": {
        "id": "axrR4oNXSiY5"
      },
      "execution_count": null,
      "outputs": []
    },
    {
      "cell_type": "code",
      "source": [
        "str1=\"eleven plus two\"\n",
        "str2=\"twelve plus one\"\n",
        "str11=str1.lower()\n",
        "str22=str2.lower()\n",
        "\n",
        "lst22=[j for j in str22 if j!=\" \"]\n",
        "print(lst22)\n",
        "lst11=[i for i in str11 if i!=\" \"]\n",
        "print(lst11)\n",
        "\n",
        "if len(lst11)==len(lst22):\n",
        "    for i in lst11+lst22:\n",
        "        if i not in lst11 or i not in lst22:\n",
        "            print(i)\n",
        "            break\n",
        "    else:\n",
        "        print(\"yes the string is anagram\")\n",
        "              \n",
        "else:\n",
        "    print(\"the string is not anagram\")"
      ],
      "metadata": {
        "id": "CJtmGU5JFasu"
      },
      "execution_count": null,
      "outputs": []
    },
    {
      "cell_type": "code",
      "source": [
        "# Python program to interchange first and last elements in a list.\n",
        "lst=[45,33,46,74,85,67,4.56+6j]\n",
        "def swaplist(list2):\n",
        "    size=len(list2)\n",
        "    temp=list2[0]                         \n",
        "    list2[0]=list2[size-1]\n",
        "    list2[size-1]=temp\n",
        "    return list2\n",
        "list2=swaplist(lst)\n",
        "print(list2)\n"
      ],
      "metadata": {
        "colab": {
          "base_uri": "https://localhost:8080/"
        },
        "id": "jt1pxKemAjZP",
        "outputId": "0ab23b9b-49e3-448a-a9eb-1296fa344e43"
      },
      "execution_count": null,
      "outputs": [
        {
          "output_type": "stream",
          "name": "stdout",
          "text": [
            "[(4.56+6j), 33, 46, 74, 85, 67, 45]\n"
          ]
        }
      ]
    },
    {
      "cell_type": "code",
      "source": [
        "list=[]\n",
        "for i in range(5):\n",
        "    for j in range(6):\n",
        "        list.append(i)\n",
        "print(list)"
      ],
      "metadata": {
        "colab": {
          "base_uri": "https://localhost:8080/"
        },
        "id": "9L_zZY55fJGq",
        "outputId": "085821da-8476-4aa2-fd15-005b89a52541"
      },
      "execution_count": null,
      "outputs": [
        {
          "output_type": "stream",
          "name": "stdout",
          "text": [
            "[0, 0, 0, 0, 0, 0, 1, 1, 1, 1, 1, 1, 2, 2, 2, 2, 2, 2, 3, 3, 3, 3, 3, 3, 4, 4, 4, 4, 4, 4]\n"
          ]
        }
      ]
    },
    {
      "cell_type": "code",
      "source": [
        "universal_list=[]\n",
        "for i in range(5):\n",
        "    sub_list=[]\n",
        "    for j in range(1,5,2):\n",
        "        sub_list.append(j)\n",
        "        print(sub_list)\n",
        "    universal_list.append(sub_list)\n",
        "print(universal_list)\n"
      ],
      "metadata": {
        "id": "CRyguftWguai"
      },
      "execution_count": null,
      "outputs": []
    },
    {
      "cell_type": "code",
      "source": [
        "# by using list comprihension\n",
        "universal_list=[[i for i in range(4)] for j in range(5)]\n",
        "print(universal_list)"
      ],
      "metadata": {
        "colab": {
          "base_uri": "https://localhost:8080/"
        },
        "id": "yQTB40w9kmic",
        "outputId": "b39e2abe-c725-4595-ebab-0b277ef00fe8"
      },
      "execution_count": null,
      "outputs": [
        {
          "output_type": "stream",
          "name": "stdout",
          "text": [
            "[[0, 1, 2, 3], [0, 1, 2, 3], [0, 1, 2, 3], [0, 1, 2, 3], [0, 1, 2, 3]]\n"
          ]
        }
      ]
    },
    {
      "cell_type": "code",
      "source": [
        "str1=\"my name is anthony gonzalvis\"\n",
        "str2=''\n",
        "for i in str1:\n",
        "  if i==\"a\":\n",
        "    str2=str2+\"e\"\n",
        "  elif i==\"e\":\n",
        "    str2=str2+\"a\"\n",
        "  else:\n",
        "    str2=str2+i\n",
        "print(str2)"
      ],
      "metadata": {
        "colab": {
          "base_uri": "https://localhost:8080/"
        },
        "id": "SL4qV8DhMQXB",
        "outputId": "bf5c3ddd-fc81-4b89-b941-e2a018a2683d"
      },
      "execution_count": null,
      "outputs": [
        {
          "output_type": "stream",
          "name": "stdout",
          "text": [
            "my nema is enthony gonzelvis\n"
          ]
        }
      ]
    },
    {
      "cell_type": "code",
      "source": [
        "a='amitabh'\n",
        "b='bacchan'\n",
        "c=25\n",
        "d=['ashu', 13,34,54,'ritu']\n",
        "e={'salman':'khan','johny':'lever','anil': 45}\n",
        "def my_func(a,b,c,*d,**e):\n",
        "    print(a,b,c)\n",
        "    for i in d:\n",
        "        print(i)\n",
        "    for key,value in e.items():\n",
        "        print(f\"this is the {key} and this is {value}\")\n",
        "\n",
        "\n",
        "f=56\n",
        "g='ghulace45'\n",
        "h=('suresh','ramesh','ashish')\n",
        "my_func(a,b,c,d,e,f,g,h)"
      ],
      "metadata": {
        "colab": {
          "base_uri": "https://localhost:8080/"
        },
        "id": "K1do6UyZjEMb",
        "outputId": "5e671bf3-2b01-41d9-9859-3d6eb368da17"
      },
      "execution_count": null,
      "outputs": [
        {
          "output_type": "stream",
          "name": "stdout",
          "text": [
            "amitabh bacchan 25\n",
            "['ashu', 13, 34, 54, 'ritu']\n",
            "{'salman': 'khan', 'johny': 'lever', 'anil': 45}\n",
            "56\n",
            "ghulace45\n",
            "('suresh', 'ramesh', 'ashish')\n"
          ]
        }
      ]
    },
    {
      "cell_type": "code",
      "source": [
        "\n",
        "class Batch:\n",
        "    passing_marks=60\n",
        "    def __init__(self,name,surname,marks):\n",
        "        self.name=name\n",
        "        self.surname=surname\n",
        "        self.marks=marks\n",
        "        def func1(self):\n",
        "            passing_marks=50\n",
        "            self.batch=\"may batch\"\n",
        "def func2(self):\n",
        "    if self.marks>self.passing_marks:\n",
        "        print(f\"congratulations {self.name} you are passed \")\n",
        "    else:\n",
        "        print(f\" Sorry {self.name} you are failed\")\n",
        "def print_welcome(self):\n",
        "    print(f\"Hey {self.name} welcome  to digikull\")"
      ],
      "metadata": {
        "id": "FrsaP4y4uwle"
      },
      "execution_count": null,
      "outputs": []
    },
    {
      "cell_type": "code",
      "source": [
        "lst=[1,2,2,2,4,5,6,7,8,9,10]\n",
        "start=0\n",
        "end=len(lst)-1\n",
        " \n",
        "sublist=[]\n",
        "univ=[]\n",
        "while start<end:\n",
        "    sum=lst[start]+lst[mid]+lst[end] \n",
        "    if sum ==13:\n",
        "        sublist=[]\n",
        "        sublist.append(lst[start])\n",
        "        sublist.append(lst[mid])\n",
        "        sublist.append(lst[end])\n",
        "        univ.append(sublist)\n",
        "        start=start+1\n",
        "        end=end-1\n",
        "\n",
        "    elif sum >13:\n",
        "        end=end-1\n",
        "    else:\n",
        "        start=start+1\n",
        " \n",
        "        \n",
        "print(univ)     "
      ],
      "metadata": {
        "id": "vth4U6STuxVq"
      },
      "execution_count": null,
      "outputs": []
    },
    {
      "cell_type": "code",
      "source": [
        "lst=[2,6,5,4,7,8,2,1,10,1,2]\n",
        "univ=[]\n",
        "x=13\n",
        "for i in range(0,len(lst)-2):\n",
        "    if lst[i]+lst[i+1]+lst[i+2]==x:\n",
        "        sublist=[]\n",
        "        sublist.append(lst[i])\n",
        "        sublist.append(lst[i+1])\n",
        "        sublist.append(lst[i+2])\n",
        "        print(lst[i],lst[i+1],lst[i+2])\n",
        "        univ.append(sublist)\n",
        "print(univ)\n",
        "#print(\"There are {​​​​​univ} triplet which sum to {​​​​​x}​​​​​\".format(univ,x))"
      ],
      "metadata": {
        "id": "L1js9h_IuxZf",
        "colab": {
          "base_uri": "https://localhost:8080/",
          "height": 271
        },
        "outputId": "e6f1944b-6ae7-49ad-bd8a-55d4bd50b174"
      },
      "execution_count": 12,
      "outputs": [
        {
          "output_type": "stream",
          "name": "stdout",
          "text": [
            "2 6 5\n",
            "2 1 10\n",
            "10 1 2\n",
            "[[2, 6, 5], [2, 1, 10], [10, 1, 2]]\n"
          ]
        },
        {
          "output_type": "error",
          "ename": "KeyError",
          "evalue": "ignored",
          "traceback": [
            "\u001b[0;31m---------------------------------------------------------------------------\u001b[0m",
            "\u001b[0;31mKeyError\u001b[0m                                  Traceback (most recent call last)",
            "\u001b[0;32m<ipython-input-12-050f3b534616>\u001b[0m in \u001b[0;36m<module>\u001b[0;34m()\u001b[0m\n\u001b[1;32m     11\u001b[0m         \u001b[0muniv\u001b[0m\u001b[0;34m.\u001b[0m\u001b[0mappend\u001b[0m\u001b[0;34m(\u001b[0m\u001b[0msublist\u001b[0m\u001b[0;34m)\u001b[0m\u001b[0;34m\u001b[0m\u001b[0;34m\u001b[0m\u001b[0m\n\u001b[1;32m     12\u001b[0m \u001b[0mprint\u001b[0m\u001b[0;34m(\u001b[0m\u001b[0muniv\u001b[0m\u001b[0;34m)\u001b[0m\u001b[0;34m\u001b[0m\u001b[0;34m\u001b[0m\u001b[0m\n\u001b[0;32m---> 13\u001b[0;31m \u001b[0mprint\u001b[0m\u001b[0;34m(\u001b[0m\u001b[0;34m\"There are {​​​​​univ} triplet which sum to {​​​​​x}​​​​​\"\u001b[0m\u001b[0;34m.\u001b[0m\u001b[0mformat\u001b[0m\u001b[0;34m(\u001b[0m\u001b[0muniv\u001b[0m\u001b[0;34m,\u001b[0m\u001b[0mx\u001b[0m\u001b[0;34m)\u001b[0m\u001b[0;34m)\u001b[0m\u001b[0;34m\u001b[0m\u001b[0;34m\u001b[0m\u001b[0m\n\u001b[0m",
            "\u001b[0;31mKeyError\u001b[0m: '\\u200b\\u200b\\u200b\\u200b\\u200buniv'"
          ]
        }
      ]
    },
    {
      "cell_type": "code",
      "source": [
        "####    Triplet sum  ####\n",
        "\n",
        "list1=[1,2,3,4,5,6,8,9,10]\n",
        "list2=[]\n",
        "\n",
        "x=18\n",
        "for i in range(0,len(list1)-1): # i= 0\n",
        "    start=i+1\n",
        "    end=len(list1)-1\n",
        "    while start<end: #start=1 end=5 , start=2, start=3 end=4, \n",
        "        if list1[start]+list1[end]+list1[i]==x:\n",
        "            list3=[]\n",
        "            list3.append(list1[start])\n",
        "            list3.append(list1[i])\n",
        "            list3.append(list1[end])\n",
        "            list2.append(list3)\n",
        "            start=start+1\n",
        "            end=end-1\n",
        "        elif list1[start]+list1[end]+list1[i]>x:\n",
        "            end=end-1\n",
        "        else:\n",
        "            start=start+1\n",
        "print(list2)"
      ],
      "metadata": {
        "id": "VeaK9WXBuxcy",
        "colab": {
          "base_uri": "https://localhost:8080/"
        },
        "outputId": "8ba64ce2-b194-49e0-bbc2-858147c2c1a9"
      },
      "execution_count": null,
      "outputs": [
        {
          "output_type": "stream",
          "name": "stdout",
          "text": [
            "[[8, 1, 9], [6, 2, 10], [5, 3, 10], [6, 3, 9], [5, 4, 9], [6, 4, 8]]\n"
          ]
        }
      ]
    },
    {
      "cell_type": "code",
      "source": [
        "def rectangle_sum(A, l1, sum): \n",
        "  \n",
        "    \n",
        "    for i in range( 0, l1-3): \n",
        "        for j in range(i + 1, l1-2): \n",
        "            for k in range(j + 1, l1-1):\n",
        "                for l in range(k+1, l1):\n",
        "                    if A[i] + A[j] + A[k] +A[l] == sum: \n",
        "                        print(f\"rectangle_sum is  {A[i]} , {A[j]}, {A[k]},{A[l]}\") \n",
        "                    #return True\n",
        "    return False\n",
        "A = [1, 4, 45, 6, 10, 8,7,6,4,5,3,2,1] \n",
        "sum = 20\n",
        "l1 = len(A)\n",
        "print(l1)\n",
        "rectangle_sum(A, l1, sum)"
      ],
      "metadata": {
        "id": "AIxt_OkZuxgc"
      },
      "execution_count": null,
      "outputs": []
    },
    {
      "cell_type": "code",
      "source": [
        "\n",
        "class vehicle:\n",
        "    def __init__(self,color,maxspeed):\n",
        "        self.color=color\n",
        "        self.maxspeed=maxspeed\n",
        "    def print(self):\n",
        "        print(\"color : \", self.color)\n",
        "        print(\"maxpeed : \", self.maxspeed)\n",
        "\n",
        "class car(vehicle):\n",
        "    def __init__(self,color,maxspeed,numgear,isconvertible):\n",
        "        super().__init__(color,maxspeed)\n",
        "        self.numgear=numgear\n",
        "        self.isconvertible=isconvertible\n",
        "\n",
        "    def print(self):\n",
        "        print(\"color : \", self.color)\n",
        "        print(\"maxpeed : \", self.maxspeed)\n",
        "        print(\"numgear : \", self.numgear)\n",
        "        print(\"isconvertible : \", self.isconvertible)\n",
        "car_obj= car(\"White\",180,5,True)\n",
        "car_obj.print()"
      ],
      "metadata": {
        "id": "Jgv8NMY_uxj6"
      },
      "execution_count": null,
      "outputs": []
    },
    {
      "cell_type": "code",
      "source": [
        "# sort 0 and 1\n",
        "\n",
        "list=[0,1,1,1,0,0,1,0,1,1,0,0]\n",
        "for i in range(len(list)):\n",
        "  for j in range(i+1,len(list)):\n",
        "    if list[i]>list[j]:\n",
        "      list[i],list[j]=list[j],list[i]\n",
        "print(list)\n",
        "\n",
        "\n",
        "#  Ashish Shimpi\n",
        "lst=[0,1,0,1,0,1,1,1,0,1,0,1,0,1] l=0\n",
        "r=len(lst)-1\n",
        "c=0 while c<=r:\n",
        "    if lst[c]==0:\n",
        "        lst[c],lst[l]= lst[l],lst[c]\n",
        "        c+=1\n",
        "        l+=1      \n",
        "    elif lst[c]==1:\n",
        "        lst[c],lst[r]=lst[r],lst[c]\n",
        "        r-=1       \n",
        "print(lst)\n",
        "\n",
        "\n",
        "#   shweta singh\n",
        "arr=[0,1,1,0,0,1,0,1]\n",
        "for i in range(len(arr)):\n",
        "  for j in range(i+1,len(arr)):\n",
        "    if arr[i]>arr[j]:\n",
        "      arr[i],arr[j]=arr[j],arr[i]\n",
        "print(arr)\n",
        "\n",
        "\n",
        "# athvan\n",
        "def sort(arr,n):\n",
        "    count = 0\n",
        "    for i in range(0,n):\n",
        "        if (arr[i] == 0):\n",
        "            count = count + 1\n",
        "    for i in range(0,count):\n",
        "        arr[i] = 0\n",
        "    for i in range(count,n):\n",
        "        arr[i] = 1\n",
        "def print_arr(arr,n):\n",
        "    print(\"Array after sort is \", end = \"\")\n",
        "    for i in range(0,n):\n",
        "        print(arr[i],end = \" \")"
      ],
      "metadata": {
        "id": "AOm5VonHuxn0",
        "colab": {
          "base_uri": "https://localhost:8080/",
          "height": 132
        },
        "outputId": "417c3648-176e-47cf-d7dd-29a38cc8fd7a"
      },
      "execution_count": null,
      "outputs": [
        {
          "output_type": "error",
          "ename": "SyntaxError",
          "evalue": "ignored",
          "traceback": [
            "\u001b[0;36m  File \u001b[0;32m\"<ipython-input-1-bdbcf0ea6622>\"\u001b[0;36m, line \u001b[0;32m11\u001b[0m\n\u001b[0;31m    [16:56] Ashish Shimpi\u001b[0m\n\u001b[0m       ^\u001b[0m\n\u001b[0;31mSyntaxError\u001b[0m\u001b[0;31m:\u001b[0m invalid syntax\n"
          ]
        }
      ]
    },
    {
      "cell_type": "code",
      "source": [
        "# count 0 in in given integer\n",
        "def cnt0(no):\n",
        "    cnt=0\n",
        "    if len(no)==0:\n",
        "        return cnt\n",
        "    if no[0]==\"0\":\n",
        "        cnt+=1\n",
        "    return cnt0(no[1:])+cnt\n",
        " \n",
        "a=1045060006000\n",
        "no=str(a)\n",
        "cnt0(no)\n",
        "\n",
        "\n",
        "\n",
        "def count_zeros(number):\n",
        "\n",
        "    count = 0\n",
        "\n",
        "    while number > 9:\n",
        "\n",
        "        count += int(number % 10 == 0)\n",
        "\n",
        "        number //= 10\n",
        "\n",
        "    return count\n",
        "\n",
        "\n",
        "\n",
        "\n",
        "    def count_0(lst):\n",
        "    cnt=0\n",
        "    if len(lst)==0:\n",
        "        return cnt\n",
        " \n",
        "    if lst[0]==0:\n",
        "        cnt=cnt+1\n",
        "    return count_0(lst[1:])+cnt  \n",
        "num=10450600060\n",
        "lst0=[int(i) for i in str(num)]\n",
        "print(lst0)\n",
        "# lst0=[1,0,4,5,0,6,0,0,0,6,0]\n",
        "print(count_0(lst0))"
      ],
      "metadata": {
        "id": "hVAOr7j-uxuS"
      },
      "execution_count": null,
      "outputs": []
    },
    {
      "cell_type": "markdown",
      "source": [
        "# ***OOPs***"
      ],
      "metadata": {
        "id": "XXj5d7sGjrb3"
      }
    },
    {
      "cell_type": "code",
      "source": [
        "# Creating a phone class\n",
        "class Phone:\n",
        "    def make_call(self):\n",
        "        print('making a phone call')\n",
        "\n",
        "    def play_game(self):\n",
        "        print('playing Game')\n",
        "\n",
        "# Instantiation of P1 Object\n",
        "p1=Phone()\n",
        "p2=Phone()\n",
        "\n",
        "# Invoking the method through Object \n",
        "p1.make_call()\n",
        "p1.play_game()\n",
        "p2.make_call()\n",
        " "
      ],
      "metadata": {
        "id": "561TqEFyf_XN",
        "outputId": "26cd3ae9-53da-47e7-a4d3-f36520654b04",
        "colab": {
          "base_uri": "https://localhost:8080/"
        }
      },
      "execution_count": 25,
      "outputs": [
        {
          "output_type": "stream",
          "name": "stdout",
          "text": [
            "making a phone call\n",
            "playing Game\n",
            "making a phone call\n"
          ]
        }
      ]
    },
    {
      "cell_type": "code",
      "source": [
        "# creating a class\n",
        "class vehicle():\n",
        "    def start_vehicle(self):\n",
        "        print('Initially you should start the vehicle')\n",
        "    def run_vehicle(self):\n",
        "        print('Then run the vehicle')\n",
        "\n",
        "# Instantiation of P1 Object\n",
        "Maruti=vehicle()\n",
        "Suzuki=vehicle()\n",
        "realme=Phone()\n",
        "micromax=Phone()\n",
        "\n",
        "# Invoking the method through Object \n",
        "Maruti.start_vehicle()\n",
        "Suzuki.run_vehicle()\n",
        "realme.play_game()\n",
        "micromax.make_call()"
      ],
      "metadata": {
        "id": "ESFdXOnQf_Sq"
      },
      "execution_count": null,
      "outputs": []
    },
    {
      "cell_type": "code",
      "source": [
        ""
      ],
      "metadata": {
        "id": "sRNz6nN5f_OP"
      },
      "execution_count": null,
      "outputs": []
    },
    {
      "cell_type": "code",
      "source": [
        ""
      ],
      "metadata": {
        "id": "6bvNZyZGf_Ig"
      },
      "execution_count": null,
      "outputs": []
    },
    {
      "cell_type": "code",
      "source": [
        ""
      ],
      "metadata": {
        "id": "ffjrfrJIux13"
      },
      "execution_count": null,
      "outputs": []
    },
    {
      "cell_type": "code",
      "source": [
        ""
      ],
      "metadata": {
        "id": "HPwBS-IzuyQo"
      },
      "execution_count": null,
      "outputs": []
    }
  ]
}